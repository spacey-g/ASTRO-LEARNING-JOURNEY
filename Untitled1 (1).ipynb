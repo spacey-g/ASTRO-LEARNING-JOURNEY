{
 "cells": [
  {
   "cell_type": "code",
   "execution_count": 8,
   "id": "7a97d714-913c-452b-bc1c-ac2a41a8c33d",
   "metadata": {},
   "outputs": [
    {
     "name": "stdout",
     "output_type": "stream",
     "text": [
      "Ra = : 12.5 hours\n",
      "dec=: -23.5 degrees\n"
     ]
    }
   ],
   "source": [
    "ra = 12.5 \n",
    "dec =-23.5 \n",
    "print(\"Ra = :\", ra,\"hours\" )\n",
    "print(\"dec=:\",dec,\"degrees\")\n"
   ]
  },
  {
   "cell_type": "code",
   "execution_count": 11,
   "id": "8c9da0f4-5776-41eb-8510-81ccd3d2808b",
   "metadata": {},
   "outputs": [
    {
     "name": "stdout",
     "output_type": "stream",
     "text": [
      "11\n",
      "5\n",
      "24\n"
     ]
    }
   ],
   "source": [
    "x = 8\n",
    "y = 3\n",
    "a = x+y\n",
    "b= x-y\n",
    "c=x*y\n",
    "\n",
    "print(a)\n",
    "print (b)\n",
    "print(c)"
   ]
  },
  {
   "cell_type": "code",
   "execution_count": 14,
   "id": "3d7c21b0-428f-41d9-8bc9-5cfaebbcdae7",
   "metadata": {},
   "outputs": [
    {
     "name": "stdout",
     "output_type": "stream",
     "text": [
      "RA= 5.5 hours = 82.5 degrees\n"
     ]
    }
   ],
   "source": [
    "ra = 5.5\n",
    "ra_degrees = ra*15\n",
    "print(\"RA=\",ra,\"hours =\",ra_degrees,\"degrees\")"
   ]
  },
  {
   "cell_type": "code",
   "execution_count": 21,
   "id": "45493c6a-3ce2-4675-9bf5-2fdb65865438",
   "metadata": {},
   "outputs": [
    {
     "name": "stdout",
     "output_type": "stream",
     "text": [
      "RA DEGREES= 8.0\n"
     ]
    }
   ],
   "source": [
    "ra_degree = 120\n",
    "ra_hours =ra_degree/15\n",
    "print(\"RA DEGREES=\",ra_hours)"
   ]
  },
  {
   "cell_type": "code",
   "execution_count": 26,
   "id": "4fc95230-22fc-428a-a7e7-9422288c2d74",
   "metadata": {},
   "outputs": [
    {
     "name": "stdout",
     "output_type": "stream",
     "text": [
      "5 h 30 m 0 s\n"
     ]
    }
   ],
   "source": [
    "ra_degree = 82.5\n",
    "ra_hours = ra_degree/15\n",
    "h = int(ra_hours)\n",
    "m= int((ra_hours -h)*60)\n",
    "s = int((ra_hours-h)*60 -m)*60\n",
    "\n",
    "print(h,\"h\",m,\"m\",s,\"s\")"
   ]
  },
  {
   "cell_type": "code",
   "execution_count": 28,
   "id": "e443a6a1-5d85-474a-b869-bc0acc43118e",
   "metadata": {},
   "outputs": [
    {
     "name": "stdout",
     "output_type": "stream",
     "text": [
      "5 h 30 m 0 s = 82.5\n"
     ]
    }
   ],
   "source": [
    "h,m,s = 5,30,0\n",
    "ra_deg = (h+m/60+s/3600)*15\n",
    "print(h,\"h\",m,\"m\",s,\"s =\",ra_deg)"
   ]
  },
  {
   "cell_type": "code",
   "execution_count": 29,
   "id": "3d3f6d62-d00b-4565-8120-ac3f2f35a74a",
   "metadata": {},
   "outputs": [
    {
     "name": "stdout",
     "output_type": "stream",
     "text": [
      "8 h 0 m 0 s\n"
     ]
    }
   ],
   "source": [
    "#practice method - 1\n",
    "ra_degree=120\n",
    "ra_hours=ra_degree/15\n",
    "\n",
    "h = int(ra_hours)\n",
    "m=int((ra_hours - h)*60)\n",
    "s = int((ra_hours-h)*60 -m)*60\n",
    "\n",
    "print(h,\"h\",m,\"m\",s,\"s\")"
   ]
  },
  {
   "cell_type": "code",
   "execution_count": 34,
   "id": "a2f6553d-21c4-42b0-8cc3-0ddce4350a91",
   "metadata": {},
   "outputs": [
    {
     "name": "stdout",
     "output_type": "stream",
     "text": [
      "8 h 0 m 0 s= 120.0 degrees\n"
     ]
    }
   ],
   "source": [
    "# practise method 2\n",
    "h,m,s=8,0,0\n",
    "\n",
    "\n",
    "a = (h+m/60+s/3600)*15\n",
    "print(h,\"h\",m,\"m\",s,\"s=\",a,\"degrees\")"
   ]
  },
  {
   "cell_type": "code",
   "execution_count": 33,
   "id": "07676698-8c1f-428f-9dd1-16c9200ae4b1",
   "metadata": {},
   "outputs": [
    {
     "name": "stdout",
     "output_type": "stream",
     "text": [
      "8 h 0 m 0 s= 8.0 h\n"
     ]
    }
   ],
   "source": [
    "# practise method 3\n",
    "h,m,s=8,0,0\n",
    "\n",
    "\n",
    "a = h+m/60+s/3600\n",
    "print(h,\"h\",m,\"m\",s,\"s=\",a,\"h\")"
   ]
  },
  {
   "cell_type": "code",
   "execution_count": 35,
   "id": "29bc8d87-4c49-48ec-a025-86460173bb63",
   "metadata": {},
   "outputs": [
    {
     "name": "stdout",
     "output_type": "stream",
     "text": [
      "ra_wrap = 84.0\n"
     ]
    }
   ],
   "source": [
    "#ra wrapp\n",
    "ra_hours = 3.5\n",
    "ra_wrapp = ra_hours *24\n",
    "print(\"ra_wrap =\",ra_wrapp)"
   ]
  },
  {
   "cell_type": "code",
   "execution_count": 38,
   "id": "f16e8845-c513-4042-9209-e8e1bd5d9c52",
   "metadata": {},
   "outputs": [
    {
     "name": "stdout",
     "output_type": "stream",
     "text": [
      "ra_wrapp =  240\n"
     ]
    }
   ],
   "source": [
    "#ra wrap to degrees\n",
    "ra_degree = 600\n",
    "ra_wrapp =ra_degree%360\n",
    "print(\"ra_wrapp = \", ra_wrapp)"
   ]
  },
  {
   "cell_type": "code",
   "execution_count": 41,
   "id": "f6fe9491-329f-45b6-8c40-e7fb75502a57",
   "metadata": {},
   "outputs": [
    {
     "name": "stdout",
     "output_type": "stream",
     "text": [
      "19\n"
     ]
    }
   ],
   "source": [
    "#ra wrap to hours\n",
    "ra_hours = -5\n",
    "ra_wrap = ra_hours%24\n",
    "print(ra_wrap)"
   ]
  },
  {
   "cell_type": "code",
   "execution_count": 43,
   "id": "b831bbd9-10d2-45bf-8ec1-e2d91eeca051",
   "metadata": {},
   "outputs": [
    {
     "name": "stdout",
     "output_type": "stream",
     "text": [
      "wrapped ra= 18\n",
      "ra_deg= 270\n"
     ]
    }
   ],
   "source": [
    "#mini excercise\n",
    "#1\n",
    "\n",
    "ra_hours = -6\n",
    "ra_wrap = ra_hours %24\n",
    "ra_degree = ra_wrap*15\n",
    "print(\"wrapped ra=\",ra_wrap)\n",
    "print(\"ra_deg=\",ra_degree)\n"
   ]
  },
  {
   "cell_type": "code",
   "execution_count": 2,
   "id": "ea33c531-0b65-4d20-b898-495c35e81203",
   "metadata": {},
   "outputs": [
    {
     "name": "stdout",
     "output_type": "stream",
     "text": [
      "invalid dec\n"
     ]
    }
   ],
   "source": [
    "dec = 92\n",
    "if -90<=dec<=90:\n",
    "    print(\"valid dec\")\n",
    "else:\n",
    "    print(\"invalid dec\")"
   ]
  },
  {
   "cell_type": "code",
   "execution_count": 10,
   "id": "d5e53736-83a3-45fb-955f-d218143c631a",
   "metadata": {},
   "outputs": [
    {
     "name": "stdout",
     "output_type": "stream",
     "text": [
      "valid dec\n",
      "on celestial equator\n"
     ]
    }
   ],
   "source": [
    "dec = 0\n",
    "if -90<=dec<=90:\n",
    "    print(\"valid dec\")\n",
    "    if dec>0:\n",
    "      print(\"northern hemisphere\")\n",
    "    elif dec< 0 :\n",
    "       print(\"southern hemishphere\")\n",
    "    else:\n",
    "       print(\"on celestial equator\")\n",
    "else:\n",
    "    print(\"invalid dec\")"
   ]
  },
  {
   "cell_type": "code",
   "execution_count": 23,
   "id": "86a84ed6-c9d5-4b83-b3ec-15e1df24514c",
   "metadata": {},
   "outputs": [
    {
     "name": "stdout",
     "output_type": "stream",
     "text": [
      "45 valid dec\n",
      "northern hemisphere\n",
      "-30 valid dec\n",
      "southern hemishphere\n",
      "100 invalid dec\n",
      "-91 invalid dec\n",
      "0 valid dec\n",
      "on celestial equator\n"
     ]
    }
   ],
   "source": [
    "dec = [45,-30,100,-91,0]\n",
    "for d in dec:\n",
    " if -90<=d<=90:\n",
    "    print(d,\"valid dec\")\n",
    "    if d>0:\n",
    "      print(\"northern hemisphere\")\n",
    "    elif d< 0 :\n",
    "       print(\"southern hemishphere\")\n",
    "    else:\n",
    "       print(\"on celestial equator\")\n",
    " else:\n",
    "    print(d,\"invalid dec\")"
   ]
  },
  {
   "cell_type": "code",
   "execution_count": 32,
   "id": "a0cee960-d5b3-425c-9932-0a328b75cbc4",
   "metadata": {},
   "outputs": [
    {
     "name": "stdout",
     "output_type": "stream",
     "text": [
      "45 valid dec\n",
      "northern hemisphere\n",
      "-30 valid dec\n",
      "southern hemishphere\n",
      "100 invalid dec\n",
      "-91 invalid dec\n",
      "0 valid dec\n",
      "on celestial equator\n"
     ]
    }
   ],
   "source": [
    "import random\n",
    "random_decs = [random.randint(-120, 120) for _ in range(5)]\n",
    "for d in dec:\n",
    " if -90<=d<=90:\n",
    "    print(d,\"valid dec\")\n",
    "    if d>0:\n",
    "      print(\"northern hemisphere\")\n",
    "    elif d< 0 :\n",
    "       print(\"southern hemishphere\")\n",
    "    else:\n",
    "       print(\"on celestial equator\")\n",
    " else:\n",
    "    print(d,\"invalid dec\")"
   ]
  },
  {
   "cell_type": "code",
   "execution_count": 37,
   "id": "96f41ad1-adc5-4313-8590-df102cc50cbc",
   "metadata": {},
   "outputs": [
    {
     "name": "stdout",
     "output_type": "stream",
     "text": [
      "45 valid dec\n",
      "northern hemisphere\n",
      "-30 valid dec\n",
      "southern hemishphere\n",
      "100 invalid dec\n",
      "-91 invalid dec\n",
      "0 valid dec\n",
      "on celestial equator\n"
     ]
    }
   ],
   "source": [
    "#test\n",
    "dec_list = [45, -30, 100, -91, 0]\n",
    "for d in dec_list:\n",
    " if -90<=d<=90:\n",
    "    print(d,\"valid dec\")\n",
    "    if d>0:\n",
    "      print(\"northern hemisphere\")\n",
    "    elif d< 0 :\n",
    "       print(\"southern hemishphere\")\n",
    "    else:\n",
    "       print(\"on celestial equator\")\n",
    " else:\n",
    "    print(d,\"invalid dec\")\n",
    "    "
   ]
  },
  {
   "cell_type": "code",
   "execution_count": 40,
   "id": "36881146-414d-4d24-8ede-c68d65e735c3",
   "metadata": {},
   "outputs": [
    {
     "ename": "SyntaxError",
     "evalue": "invalid syntax. Perhaps you forgot a comma? (900688479.py, line 2)",
     "output_type": "error",
     "traceback": [
      "\u001b[1;36m  Cell \u001b[1;32mIn[40], line 2\u001b[1;36m\u001b[0m\n\u001b[1;33m    random = [random.randint(-90,90) for_ in range (5)]\u001b[0m\n\u001b[1;37m              ^\u001b[0m\n\u001b[1;31mSyntaxError\u001b[0m\u001b[1;31m:\u001b[0m invalid syntax. Perhaps you forgot a comma?\n"
     ]
    }
   ],
   "source": [
    "import random\n",
    "random = [random.randint(-90,90) for_ in range (5)]\n",
    "for d in dec_list:\n",
    " if -90<=d<=90:\n",
    "    print(d,\"valid dec\")\n",
    "    if d>0:\n",
    "      print(\"northern hemisphere\")\n",
    "    elif d< 0 :\n",
    "       print(\"southern hemishphere\")\n",
    "    else:\n",
    "       print(\"on celestial equator\")\n",
    " else:\n",
    "    print(d,\"invalid dec\")\n"
   ]
  },
  {
   "cell_type": "code",
   "execution_count": null,
   "id": "1e96ebbd-cd44-49af-b6ab-af045c72ea7a",
   "metadata": {},
   "outputs": [],
   "source": []
  }
 ],
 "metadata": {
  "kernelspec": {
   "display_name": "Python [conda env:base] *",
   "language": "python",
   "name": "conda-base-py"
  },
  "language_info": {
   "codemirror_mode": {
    "name": "ipython",
    "version": 3
   },
   "file_extension": ".py",
   "mimetype": "text/x-python",
   "name": "python",
   "nbconvert_exporter": "python",
   "pygments_lexer": "ipython3",
   "version": "3.13.5"
  }
 },
 "nbformat": 4,
 "nbformat_minor": 5
}
